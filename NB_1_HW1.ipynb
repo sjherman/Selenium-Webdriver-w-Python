{
  "nbformat": 4,
  "nbformat_minor": 0,
  "metadata": {
    "colab": {
      "name": "NB 1 - HW1.ipynb",
      "provenance": [],
      "toc_visible": true,
      "authorship_tag": "ABX9TyN4O9zgZgf6uoYQlMx5NBrQ",
      "include_colab_link": true
    },
    "kernelspec": {
      "name": "python3",
      "display_name": "Python 3"
    }
  },
  "cells": [
    {
      "cell_type": "markdown",
      "metadata": {
        "id": "view-in-github",
        "colab_type": "text"
      },
      "source": [
        "<a href=\"https://colab.research.google.com/github/sjherman/Selenium-Webdriver-w-Python/blob/master/NB_1_HW1.ipynb\" target=\"_parent\"><img src=\"https://colab.research.google.com/assets/colab-badge.svg\" alt=\"Open In Colab\"/></a>"
      ]
    },
    {
      "cell_type": "markdown",
      "metadata": {
        "id": "Qc87v7u9Fcm_",
        "colab_type": "text"
      },
      "source": [
        "# **Notebook 1**"
      ]
    },
    {
      "cell_type": "code",
      "metadata": {
        "id": "ua0rUluOE5Dk",
        "colab_type": "code",
        "colab": {}
      },
      "source": [
        "#Import packages\n",
        "\n",
        "%matplotlib inline\n",
        "\n",
        "import numpy as np\n",
        "import matplotlib.pyplot as plt\n",
        "import pandas as pd\n",
        "\n",
        "#From Scikit Learn\n",
        "from sklearn import preprocessing\n",
        "from sklearn.model_selection  import train_test_split, cross_val_score, KFold\n",
        "from sklearn.model_selection import GridSearchCV\n",
        "from sklearn.metrics import accuracy_score, precision_score, recall_score, f1_score\n",
        "from sklearn.metrics import roc_curve, auc, confusion_matrix, classification_report\n",
        "from sklearn import preprocessing\n",
        "from sklearn import tree \n",
        "from IPython.display import Image"
      ],
      "execution_count": 0,
      "outputs": []
    },
    {
      "cell_type": "markdown",
      "metadata": {
        "id": "jJo4ZI47GcBD",
        "colab_type": "text"
      },
      "source": [
        "## 1. Upload the AUTO.csv file and import using Pandas\n"
      ]
    },
    {
      "cell_type": "code",
      "metadata": {
        "id": "e3SIfP-hFbY3",
        "colab_type": "code",
        "outputId": "266852d4-68e8-4023-eaa9-171e8054379c",
        "colab": {
          "resources": {
            "http://localhost:8080/nbextensions/google.colab/files.js": {
              "data": "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",
              "ok": true,
              "headers": [
                [
                  "content-type",
                  "application/javascript"
                ]
              ],
              "status": 200,
              "status_text": ""
            }
          },
          "base_uri": "https://localhost:8080/",
          "height": 91
        }
      },
      "source": [
        "# Code found at https://colab.research.google.com/notebooks/io.ipynb#scrollTo=BaCkyg5CV5jF\n",
        "# Uploads the dataset \n",
        "\n",
        "from google.colab import files\n",
        "\n",
        "uploaded = files.upload()\n",
        "\n",
        "for fn in uploaded.keys():\n",
        "  print('User uploaded file \"{name}\" with length {length} bytes'.format(\n",
        "      name=fn, length=len(uploaded[fn])))"
      ],
      "execution_count": 103,
      "outputs": [
        {
          "output_type": "display_data",
          "data": {
            "text/html": [
              "\n",
              "     <input type=\"file\" id=\"files-d4045404-565f-41a8-898a-b50f3555f6c2\" name=\"files[]\" multiple disabled />\n",
              "     <output id=\"result-d4045404-565f-41a8-898a-b50f3555f6c2\">\n",
              "      Upload widget is only available when the cell has been executed in the\n",
              "      current browser session. Please rerun this cell to enable.\n",
              "      </output>\n",
              "      <script src=\"/nbextensions/google.colab/files.js\"></script> "
            ],
            "text/plain": [
              "<IPython.core.display.HTML object>"
            ]
          },
          "metadata": {
            "tags": []
          }
        },
        {
          "output_type": "stream",
          "text": [
            "Saving AUTO.csv to AUTO (1).csv\n",
            "User uploaded file \"AUTO.csv\" with length 9621 bytes\n"
          ],
          "name": "stdout"
        }
      ]
    },
    {
      "cell_type": "code",
      "metadata": {
        "id": "EFMp0PjOHBy7",
        "colab_type": "code",
        "outputId": "de0f9a95-ef82-4233-8b48-eecaa7a168de",
        "colab": {
          "base_uri": "https://localhost:8080/",
          "height": 323
        }
      },
      "source": [
        "# Imports using Pandas and prints the header\n",
        "\n",
        "Auto = pd.read_csv(\"AUTO.csv\")\n",
        "Auto.head()"
      ],
      "execution_count": 104,
      "outputs": [
        {
          "output_type": "execute_result",
          "data": {
            "text/html": [
              "<div>\n",
              "<style scoped>\n",
              "    .dataframe tbody tr th:only-of-type {\n",
              "        vertical-align: middle;\n",
              "    }\n",
              "\n",
              "    .dataframe tbody tr th {\n",
              "        vertical-align: top;\n",
              "    }\n",
              "\n",
              "    .dataframe thead th {\n",
              "        text-align: right;\n",
              "    }\n",
              "</style>\n",
              "<table border=\"1\" class=\"dataframe\">\n",
              "  <thead>\n",
              "    <tr style=\"text-align: right;\">\n",
              "      <th></th>\n",
              "      <th>Name</th>\n",
              "      <th>Drive Type</th>\n",
              "      <th>Mileage (mpg)</th>\n",
              "      <th>Fuel Type</th>\n",
              "      <th>Capacity (gal)</th>\n",
              "      <th>Length (inches)</th>\n",
              "      <th>Wheel Base (inches)</th>\n",
              "      <th>Width (inches)</th>\n",
              "      <th>Turning Circle (feet)</th>\n",
              "      <th>Weight (lbs)</th>\n",
              "      <th>Door Top (inches)</th>\n",
              "      <th>Luggage (cu. ft.)</th>\n",
              "      <th>Front Shoulder (inches)</th>\n",
              "      <th>Front Leg Room (inches)</th>\n",
              "      <th>Front Head Room (inches)</th>\n",
              "      <th>Rear Shoulder (inches)</th>\n",
              "      <th>Rear Leg Room (inches)</th>\n",
              "      <th>Rear Head Room (inches)</th>\n",
              "    </tr>\n",
              "  </thead>\n",
              "  <tbody>\n",
              "    <tr>\n",
              "      <th>0</th>\n",
              "      <td>Acura Integra</td>\n",
              "      <td>Front</td>\n",
              "      <td>31</td>\n",
              "      <td>Regular</td>\n",
              "      <td>13.2</td>\n",
              "      <td>172</td>\n",
              "      <td>101</td>\n",
              "      <td>67</td>\n",
              "      <td>39</td>\n",
              "      <td>2,635</td>\n",
              "      <td>47.5</td>\n",
              "      <td>13.0</td>\n",
              "      <td>51.5</td>\n",
              "      <td>41.5</td>\n",
              "      <td>2.0</td>\n",
              "      <td>46.5</td>\n",
              "      <td>25.0</td>\n",
              "      <td>0.5</td>\n",
              "    </tr>\n",
              "    <tr>\n",
              "      <th>1</th>\n",
              "      <td>Acura TL</td>\n",
              "      <td>Front</td>\n",
              "      <td>22</td>\n",
              "      <td>Premium</td>\n",
              "      <td>17.1</td>\n",
              "      <td>193</td>\n",
              "      <td>108</td>\n",
              "      <td>70</td>\n",
              "      <td>40</td>\n",
              "      <td>3,460</td>\n",
              "      <td>50.0</td>\n",
              "      <td>14.0</td>\n",
              "      <td>56.0</td>\n",
              "      <td>40.5</td>\n",
              "      <td>2.5</td>\n",
              "      <td>55.0</td>\n",
              "      <td>27.0</td>\n",
              "      <td>2.0</td>\n",
              "    </tr>\n",
              "    <tr>\n",
              "      <th>2</th>\n",
              "      <td>Buick Century</td>\n",
              "      <td>Front</td>\n",
              "      <td>22</td>\n",
              "      <td>Regular</td>\n",
              "      <td>17.5</td>\n",
              "      <td>195</td>\n",
              "      <td>109</td>\n",
              "      <td>73</td>\n",
              "      <td>40</td>\n",
              "      <td>3,350</td>\n",
              "      <td>50.5</td>\n",
              "      <td>17.0</td>\n",
              "      <td>58.0</td>\n",
              "      <td>44.0</td>\n",
              "      <td>5.0</td>\n",
              "      <td>57.0</td>\n",
              "      <td>30.0</td>\n",
              "      <td>2.0</td>\n",
              "    </tr>\n",
              "    <tr>\n",
              "      <th>3</th>\n",
              "      <td>Buick LeSabre</td>\n",
              "      <td>Front</td>\n",
              "      <td>20</td>\n",
              "      <td>Regular</td>\n",
              "      <td>17.5</td>\n",
              "      <td>200</td>\n",
              "      <td>112</td>\n",
              "      <td>74</td>\n",
              "      <td>42</td>\n",
              "      <td>3,640</td>\n",
              "      <td>51.0</td>\n",
              "      <td>18.0</td>\n",
              "      <td>59.5</td>\n",
              "      <td>40.5</td>\n",
              "      <td>5.0</td>\n",
              "      <td>58.0</td>\n",
              "      <td>27.5</td>\n",
              "      <td>4.5</td>\n",
              "    </tr>\n",
              "    <tr>\n",
              "      <th>4</th>\n",
              "      <td>Buick Park Avenue</td>\n",
              "      <td>Front</td>\n",
              "      <td>21</td>\n",
              "      <td>Regular</td>\n",
              "      <td>18.5</td>\n",
              "      <td>207</td>\n",
              "      <td>114</td>\n",
              "      <td>75</td>\n",
              "      <td>43</td>\n",
              "      <td>3,880</td>\n",
              "      <td>51.0</td>\n",
              "      <td>19.0</td>\n",
              "      <td>59.5</td>\n",
              "      <td>42.5</td>\n",
              "      <td>6.0</td>\n",
              "      <td>58.5</td>\n",
              "      <td>31.5</td>\n",
              "      <td>3.0</td>\n",
              "    </tr>\n",
              "  </tbody>\n",
              "</table>\n",
              "</div>"
            ],
            "text/plain": [
              "                Name  ... Rear Head Room (inches)\n",
              "0      Acura Integra  ...                     0.5\n",
              "1           Acura TL  ...                     2.0\n",
              "2      Buick Century  ...                     2.0\n",
              "3      Buick LeSabre  ...                     4.5\n",
              "4  Buick Park Avenue  ...                     3.0\n",
              "\n",
              "[5 rows x 18 columns]"
            ]
          },
          "metadata": {
            "tags": []
          },
          "execution_count": 104
        }
      ]
    },
    {
      "cell_type": "code",
      "metadata": {
        "id": "vEFgZ6n3HM53",
        "colab_type": "code",
        "colab": {
          "base_uri": "https://localhost:8080/",
          "height": 153
        },
        "outputId": "8e55002f-8ade-407f-c37c-743dd572b077"
      },
      "source": [
        "# Column names\n",
        "Auto.columns"
      ],
      "execution_count": 105,
      "outputs": [
        {
          "output_type": "execute_result",
          "data": {
            "text/plain": [
              "Index(['Name', 'Drive Type', 'Mileage (mpg)', 'Fuel Type', 'Capacity (gal)',\n",
              "       'Length (inches)', 'Wheel Base (inches)', 'Width (inches)',\n",
              "       'Turning Circle (feet)', 'Weight (lbs)', 'Door Top (inches)',\n",
              "       'Luggage (cu. ft.)', 'Front Shoulder (inches)',\n",
              "       'Front Leg Room (inches)', 'Front Head Room (inches)',\n",
              "       'Rear Shoulder (inches)', 'Rear Leg Room (inches)',\n",
              "       'Rear Head Room (inches)'],\n",
              "      dtype='object')"
            ]
          },
          "metadata": {
            "tags": []
          },
          "execution_count": 105
        }
      ]
    },
    {
      "cell_type": "code",
      "metadata": {
        "id": "0XP5rhnd9ZmR",
        "colab_type": "code",
        "colab": {
          "base_uri": "https://localhost:8080/",
          "height": 34
        },
        "outputId": "9511ed62-135e-42df-9ed9-c7d4e3674f5e"
      },
      "source": [
        "# Data shape\n",
        "Auto.shape"
      ],
      "execution_count": 106,
      "outputs": [
        {
          "output_type": "execute_result",
          "data": {
            "text/plain": [
              "(106, 18)"
            ]
          },
          "metadata": {
            "tags": []
          },
          "execution_count": 106
        }
      ]
    },
    {
      "cell_type": "code",
      "metadata": {
        "id": "SQmaz2zo9gJJ",
        "colab_type": "code",
        "colab": {
          "base_uri": "https://localhost:8080/",
          "height": 340
        },
        "outputId": "6fbd2674-724e-4a7c-e7dd-71e28e2586fa"
      },
      "source": [
        "# Data type for each column\n",
        "Auto.dtypes"
      ],
      "execution_count": 107,
      "outputs": [
        {
          "output_type": "execute_result",
          "data": {
            "text/plain": [
              "Name                         object\n",
              "Drive Type                   object\n",
              "Mileage (mpg)                 int64\n",
              "Fuel Type                    object\n",
              "Capacity (gal)              float64\n",
              "Length (inches)               int64\n",
              "Wheel Base (inches)           int64\n",
              "Width (inches)                int64\n",
              "Turning Circle (feet)         int64\n",
              "Weight (lbs)                 object\n",
              "Door Top (inches)           float64\n",
              "Luggage (cu. ft.)           float64\n",
              "Front Shoulder (inches)     float64\n",
              "Front Leg Room (inches)     float64\n",
              "Front Head Room (inches)    float64\n",
              "Rear Shoulder (inches)      float64\n",
              "Rear Leg Room (inches)      float64\n",
              "Rear Head Room (inches)     float64\n",
              "dtype: object"
            ]
          },
          "metadata": {
            "tags": []
          },
          "execution_count": 107
        }
      ]
    },
    {
      "cell_type": "code",
      "metadata": {
        "id": "upzm8tdxmvd9",
        "colab_type": "code",
        "colab": {
          "base_uri": "https://localhost:8080/",
          "height": 340
        },
        "outputId": "ef3ef06d-0724-4976-992d-53a21de7b527"
      },
      "source": [
        "# Convert 'Weight (lbs)' from object to integer\n",
        "\n",
        "Auto = Auto.replace(',','',regex=True)\n",
        "Auto['Weight (lbs)'] = pd.to_numeric(Auto['Weight (lbs)'])\n",
        "Auto.dtypes"
      ],
      "execution_count": 111,
      "outputs": [
        {
          "output_type": "execute_result",
          "data": {
            "text/plain": [
              "Name                         object\n",
              "Drive Type                   object\n",
              "Mileage (mpg)                 int64\n",
              "Fuel Type                    object\n",
              "Capacity (gal)              float64\n",
              "Length (inches)               int64\n",
              "Wheel Base (inches)           int64\n",
              "Width (inches)                int64\n",
              "Turning Circle (feet)         int64\n",
              "Weight (lbs)                  int64\n",
              "Door Top (inches)           float64\n",
              "Luggage (cu. ft.)           float64\n",
              "Front Shoulder (inches)     float64\n",
              "Front Leg Room (inches)     float64\n",
              "Front Head Room (inches)    float64\n",
              "Rear Shoulder (inches)      float64\n",
              "Rear Leg Room (inches)      float64\n",
              "Rear Head Room (inches)     float64\n",
              "dtype: object"
            ]
          },
          "metadata": {
            "tags": []
          },
          "execution_count": 111
        }
      ]
    },
    {
      "cell_type": "markdown",
      "metadata": {
        "id": "gvz57Mh2B7Tb",
        "colab_type": "text"
      },
      "source": [
        "## 2. Replace any missing values with the median valuable of the variable."
      ]
    },
    {
      "cell_type": "code",
      "metadata": {
        "id": "mB60isWk-6bj",
        "colab_type": "code",
        "colab": {
          "base_uri": "https://localhost:8080/",
          "height": 34
        },
        "outputId": "c4bb2853-4d71-49cf-fe0a-b49ddb7a18ba"
      },
      "source": [
        "# Columns with NA values\n",
        "\n",
        "Auto.columns[Auto.isnull().any()]"
      ],
      "execution_count": 112,
      "outputs": [
        {
          "output_type": "execute_result",
          "data": {
            "text/plain": [
              "Index(['Luggage (cu. ft.)'], dtype='object')"
            ]
          },
          "metadata": {
            "tags": []
          },
          "execution_count": 112
        }
      ]
    },
    {
      "cell_type": "code",
      "metadata": {
        "id": "Hpf9GLS1D4U5",
        "colab_type": "code",
        "colab": {
          "base_uri": "https://localhost:8080/",
          "height": 179
        },
        "outputId": "f1fb6467-64f7-4ae5-e070-8a6a3368b2a2"
      },
      "source": [
        "# Display rows with NA values\n",
        "\n",
        "Auto[np.isnan(Auto['Luggage (cu. ft.)'])]"
      ],
      "execution_count": 113,
      "outputs": [
        {
          "output_type": "execute_result",
          "data": {
            "text/html": [
              "<div>\n",
              "<style scoped>\n",
              "    .dataframe tbody tr th:only-of-type {\n",
              "        vertical-align: middle;\n",
              "    }\n",
              "\n",
              "    .dataframe tbody tr th {\n",
              "        vertical-align: top;\n",
              "    }\n",
              "\n",
              "    .dataframe thead th {\n",
              "        text-align: right;\n",
              "    }\n",
              "</style>\n",
              "<table border=\"1\" class=\"dataframe\">\n",
              "  <thead>\n",
              "    <tr style=\"text-align: right;\">\n",
              "      <th></th>\n",
              "      <th>Name</th>\n",
              "      <th>Drive Type</th>\n",
              "      <th>Mileage (mpg)</th>\n",
              "      <th>Fuel Type</th>\n",
              "      <th>Capacity (gal)</th>\n",
              "      <th>Length (inches)</th>\n",
              "      <th>Wheel Base (inches)</th>\n",
              "      <th>Width (inches)</th>\n",
              "      <th>Turning Circle (feet)</th>\n",
              "      <th>Weight (lbs)</th>\n",
              "      <th>Door Top (inches)</th>\n",
              "      <th>Luggage (cu. ft.)</th>\n",
              "      <th>Front Shoulder (inches)</th>\n",
              "      <th>Front Leg Room (inches)</th>\n",
              "      <th>Front Head Room (inches)</th>\n",
              "      <th>Rear Shoulder (inches)</th>\n",
              "      <th>Rear Leg Room (inches)</th>\n",
              "      <th>Rear Head Room (inches)</th>\n",
              "    </tr>\n",
              "  </thead>\n",
              "  <tbody>\n",
              "    <tr>\n",
              "      <th>87</th>\n",
              "      <td>Ford F-150</td>\n",
              "      <td>Rear</td>\n",
              "      <td>15</td>\n",
              "      <td>Regular</td>\n",
              "      <td>25.0</td>\n",
              "      <td>226</td>\n",
              "      <td>139</td>\n",
              "      <td>80</td>\n",
              "      <td>49</td>\n",
              "      <td>5210</td>\n",
              "      <td>70.5</td>\n",
              "      <td>NaN</td>\n",
              "      <td>63.5</td>\n",
              "      <td>42.0</td>\n",
              "      <td>7.0</td>\n",
              "      <td>60.0</td>\n",
              "      <td>24.5</td>\n",
              "      <td>2.5</td>\n",
              "    </tr>\n",
              "    <tr>\n",
              "      <th>88</th>\n",
              "      <td>Ford Ranger</td>\n",
              "      <td>Rear</td>\n",
              "      <td>18</td>\n",
              "      <td>Regular</td>\n",
              "      <td>20.0</td>\n",
              "      <td>202</td>\n",
              "      <td>126</td>\n",
              "      <td>70</td>\n",
              "      <td>45</td>\n",
              "      <td>3870</td>\n",
              "      <td>60.0</td>\n",
              "      <td>NaN</td>\n",
              "      <td>54.0</td>\n",
              "      <td>42.5</td>\n",
              "      <td>5.0</td>\n",
              "      <td>18.0</td>\n",
              "      <td>22.5</td>\n",
              "      <td>2.0</td>\n",
              "    </tr>\n",
              "  </tbody>\n",
              "</table>\n",
              "</div>"
            ],
            "text/plain": [
              "           Name Drive Type  ...  Rear Leg Room (inches) Rear Head Room (inches)\n",
              "87   Ford F-150       Rear  ...                    24.5                     2.5\n",
              "88  Ford Ranger       Rear  ...                    22.5                     2.0\n",
              "\n",
              "[2 rows x 18 columns]"
            ]
          },
          "metadata": {
            "tags": []
          },
          "execution_count": 113
        }
      ]
    },
    {
      "cell_type": "code",
      "metadata": {
        "id": "crEr1ZbZBuYz",
        "colab_type": "code",
        "colab": {}
      },
      "source": [
        "# Replace NA values with the median of the variable\n",
        "\n",
        "Auto['Luggage (cu. ft.)'].fillna(Auto['Luggage (cu. ft.)'].median(), inplace=True)"
      ],
      "execution_count": 0,
      "outputs": []
    },
    {
      "cell_type": "code",
      "metadata": {
        "id": "8NYH3eeOHHxQ",
        "colab_type": "code",
        "colab": {
          "base_uri": "https://localhost:8080/",
          "height": 179
        },
        "outputId": "d787f512-9294-4c85-db51-a48a6236622a"
      },
      "source": [
        "# Show the rows that had NA values to see if they were replaced\n",
        "\n",
        "Auto.loc[[87,88]]"
      ],
      "execution_count": 115,
      "outputs": [
        {
          "output_type": "execute_result",
          "data": {
            "text/html": [
              "<div>\n",
              "<style scoped>\n",
              "    .dataframe tbody tr th:only-of-type {\n",
              "        vertical-align: middle;\n",
              "    }\n",
              "\n",
              "    .dataframe tbody tr th {\n",
              "        vertical-align: top;\n",
              "    }\n",
              "\n",
              "    .dataframe thead th {\n",
              "        text-align: right;\n",
              "    }\n",
              "</style>\n",
              "<table border=\"1\" class=\"dataframe\">\n",
              "  <thead>\n",
              "    <tr style=\"text-align: right;\">\n",
              "      <th></th>\n",
              "      <th>Name</th>\n",
              "      <th>Drive Type</th>\n",
              "      <th>Mileage (mpg)</th>\n",
              "      <th>Fuel Type</th>\n",
              "      <th>Capacity (gal)</th>\n",
              "      <th>Length (inches)</th>\n",
              "      <th>Wheel Base (inches)</th>\n",
              "      <th>Width (inches)</th>\n",
              "      <th>Turning Circle (feet)</th>\n",
              "      <th>Weight (lbs)</th>\n",
              "      <th>Door Top (inches)</th>\n",
              "      <th>Luggage (cu. ft.)</th>\n",
              "      <th>Front Shoulder (inches)</th>\n",
              "      <th>Front Leg Room (inches)</th>\n",
              "      <th>Front Head Room (inches)</th>\n",
              "      <th>Rear Shoulder (inches)</th>\n",
              "      <th>Rear Leg Room (inches)</th>\n",
              "      <th>Rear Head Room (inches)</th>\n",
              "    </tr>\n",
              "  </thead>\n",
              "  <tbody>\n",
              "    <tr>\n",
              "      <th>87</th>\n",
              "      <td>Ford F-150</td>\n",
              "      <td>Rear</td>\n",
              "      <td>15</td>\n",
              "      <td>Regular</td>\n",
              "      <td>25.0</td>\n",
              "      <td>226</td>\n",
              "      <td>139</td>\n",
              "      <td>80</td>\n",
              "      <td>49</td>\n",
              "      <td>5210</td>\n",
              "      <td>70.5</td>\n",
              "      <td>16.0</td>\n",
              "      <td>63.5</td>\n",
              "      <td>42.0</td>\n",
              "      <td>7.0</td>\n",
              "      <td>60.0</td>\n",
              "      <td>24.5</td>\n",
              "      <td>2.5</td>\n",
              "    </tr>\n",
              "    <tr>\n",
              "      <th>88</th>\n",
              "      <td>Ford Ranger</td>\n",
              "      <td>Rear</td>\n",
              "      <td>18</td>\n",
              "      <td>Regular</td>\n",
              "      <td>20.0</td>\n",
              "      <td>202</td>\n",
              "      <td>126</td>\n",
              "      <td>70</td>\n",
              "      <td>45</td>\n",
              "      <td>3870</td>\n",
              "      <td>60.0</td>\n",
              "      <td>16.0</td>\n",
              "      <td>54.0</td>\n",
              "      <td>42.5</td>\n",
              "      <td>5.0</td>\n",
              "      <td>18.0</td>\n",
              "      <td>22.5</td>\n",
              "      <td>2.0</td>\n",
              "    </tr>\n",
              "  </tbody>\n",
              "</table>\n",
              "</div>"
            ],
            "text/plain": [
              "           Name Drive Type  ...  Rear Leg Room (inches) Rear Head Room (inches)\n",
              "87   Ford F-150       Rear  ...                    24.5                     2.5\n",
              "88  Ford Ranger       Rear  ...                    22.5                     2.0\n",
              "\n",
              "[2 rows x 18 columns]"
            ]
          },
          "metadata": {
            "tags": []
          },
          "execution_count": 115
        }
      ]
    },
    {
      "cell_type": "markdown",
      "metadata": {
        "id": "ociUM7bfH7hG",
        "colab_type": "text"
      },
      "source": [
        "## 3.\tExplore the general characteristics of the data, by computing the means and standard deviations of the numerical attributes, as well as the distributions of “drive type” and “fuel type”."
      ]
    },
    {
      "cell_type": "code",
      "metadata": {
        "id": "Zc6c88Wtb8Jp",
        "colab_type": "code",
        "colab": {
          "base_uri": "https://localhost:8080/",
          "height": 514
        },
        "outputId": "d77d826d-6281-470d-f0b9-f01d806ca1f8"
      },
      "source": [
        "# Mean and standard deviation\n",
        "Auto_mean = Auto.mean()\n",
        "Auto_std = Auto.std()\n",
        "\n",
        "# Creates a dataframe with feature name, mean, and standard deviation\n",
        "Auto_desc = pd.DataFrame({'mean':Auto_mean, 'std':Auto_std})\n",
        "Auto_desc"
      ],
      "execution_count": 127,
      "outputs": [
        {
          "output_type": "execute_result",
          "data": {
            "text/html": [
              "<div>\n",
              "<style scoped>\n",
              "    .dataframe tbody tr th:only-of-type {\n",
              "        vertical-align: middle;\n",
              "    }\n",
              "\n",
              "    .dataframe tbody tr th {\n",
              "        vertical-align: top;\n",
              "    }\n",
              "\n",
              "    .dataframe thead th {\n",
              "        text-align: right;\n",
              "    }\n",
              "</style>\n",
              "<table border=\"1\" class=\"dataframe\">\n",
              "  <thead>\n",
              "    <tr style=\"text-align: right;\">\n",
              "      <th></th>\n",
              "      <th>mean</th>\n",
              "      <th>std</th>\n",
              "    </tr>\n",
              "  </thead>\n",
              "  <tbody>\n",
              "    <tr>\n",
              "      <th>Mileage (mpg)</th>\n",
              "      <td>21.292453</td>\n",
              "      <td>3.769469</td>\n",
              "    </tr>\n",
              "    <tr>\n",
              "      <th>Capacity (gal)</th>\n",
              "      <td>17.883019</td>\n",
              "      <td>3.425714</td>\n",
              "    </tr>\n",
              "    <tr>\n",
              "      <th>Length (inches)</th>\n",
              "      <td>187.594340</td>\n",
              "      <td>12.493639</td>\n",
              "    </tr>\n",
              "    <tr>\n",
              "      <th>Wheel Base (inches)</th>\n",
              "      <td>107.632075</td>\n",
              "      <td>7.014713</td>\n",
              "    </tr>\n",
              "    <tr>\n",
              "      <th>Width (inches)</th>\n",
              "      <td>70.915094</td>\n",
              "      <td>3.237041</td>\n",
              "    </tr>\n",
              "    <tr>\n",
              "      <th>Turning Circle (feet)</th>\n",
              "      <td>39.849057</td>\n",
              "      <td>2.797252</td>\n",
              "    </tr>\n",
              "    <tr>\n",
              "      <th>Weight (lbs)</th>\n",
              "      <td>3502.311321</td>\n",
              "      <td>633.453939</td>\n",
              "    </tr>\n",
              "    <tr>\n",
              "      <th>Door Top (inches)</th>\n",
              "      <td>53.891509</td>\n",
              "      <td>5.747465</td>\n",
              "    </tr>\n",
              "    <tr>\n",
              "      <th>Luggage (cu. ft.)</th>\n",
              "      <td>25.056604</td>\n",
              "      <td>18.235538</td>\n",
              "    </tr>\n",
              "    <tr>\n",
              "      <th>Front Shoulder (inches)</th>\n",
              "      <td>56.471698</td>\n",
              "      <td>3.041640</td>\n",
              "    </tr>\n",
              "    <tr>\n",
              "      <th>Front Leg Room (inches)</th>\n",
              "      <td>41.254717</td>\n",
              "      <td>1.021775</td>\n",
              "    </tr>\n",
              "    <tr>\n",
              "      <th>Front Head Room (inches)</th>\n",
              "      <td>4.287736</td>\n",
              "      <td>1.279784</td>\n",
              "    </tr>\n",
              "    <tr>\n",
              "      <th>Rear Shoulder (inches)</th>\n",
              "      <td>54.745283</td>\n",
              "      <td>7.110437</td>\n",
              "    </tr>\n",
              "    <tr>\n",
              "      <th>Rear Leg Room (inches)</th>\n",
              "      <td>28.363208</td>\n",
              "      <td>2.196895</td>\n",
              "    </tr>\n",
              "    <tr>\n",
              "      <th>Rear Head Room (inches)</th>\n",
              "      <td>3.023585</td>\n",
              "      <td>1.370405</td>\n",
              "    </tr>\n",
              "  </tbody>\n",
              "</table>\n",
              "</div>"
            ],
            "text/plain": [
              "                                 mean         std\n",
              "Mileage (mpg)               21.292453    3.769469\n",
              "Capacity (gal)              17.883019    3.425714\n",
              "Length (inches)            187.594340   12.493639\n",
              "Wheel Base (inches)        107.632075    7.014713\n",
              "Width (inches)              70.915094    3.237041\n",
              "Turning Circle (feet)       39.849057    2.797252\n",
              "Weight (lbs)              3502.311321  633.453939\n",
              "Door Top (inches)           53.891509    5.747465\n",
              "Luggage (cu. ft.)           25.056604   18.235538\n",
              "Front Shoulder (inches)     56.471698    3.041640\n",
              "Front Leg Room (inches)     41.254717    1.021775\n",
              "Front Head Room (inches)     4.287736    1.279784\n",
              "Rear Shoulder (inches)      54.745283    7.110437\n",
              "Rear Leg Room (inches)      28.363208    2.196895\n",
              "Rear Head Room (inches)      3.023585    1.370405"
            ]
          },
          "metadata": {
            "tags": []
          },
          "execution_count": 127
        }
      ]
    },
    {
      "cell_type": "code",
      "metadata": {
        "id": "Ce9u0dSEuABB",
        "colab_type": "code",
        "colab": {
          "base_uri": "https://localhost:8080/",
          "height": 142
        },
        "outputId": "f6e1050f-18fc-4a19-cab8-36540543a6d4"
      },
      "source": [
        "# 'Drive Type' distribution \n",
        "\n",
        "pd.DataFrame(Auto.groupby('Drive Type').size())"
      ],
      "execution_count": 135,
      "outputs": [
        {
          "output_type": "execute_result",
          "data": {
            "text/html": [
              "<div>\n",
              "<style scoped>\n",
              "    .dataframe tbody tr th:only-of-type {\n",
              "        vertical-align: middle;\n",
              "    }\n",
              "\n",
              "    .dataframe tbody tr th {\n",
              "        vertical-align: top;\n",
              "    }\n",
              "\n",
              "    .dataframe thead th {\n",
              "        text-align: right;\n",
              "    }\n",
              "</style>\n",
              "<table border=\"1\" class=\"dataframe\">\n",
              "  <thead>\n",
              "    <tr style=\"text-align: right;\">\n",
              "      <th></th>\n",
              "      <th>0</th>\n",
              "    </tr>\n",
              "    <tr>\n",
              "      <th>Drive Type</th>\n",
              "      <th></th>\n",
              "    </tr>\n",
              "  </thead>\n",
              "  <tbody>\n",
              "    <tr>\n",
              "      <th>Front</th>\n",
              "      <td>81</td>\n",
              "    </tr>\n",
              "    <tr>\n",
              "      <th>Rear</th>\n",
              "      <td>25</td>\n",
              "    </tr>\n",
              "  </tbody>\n",
              "</table>\n",
              "</div>"
            ],
            "text/plain": [
              "             0\n",
              "Drive Type    \n",
              "Front       81\n",
              "Rear        25"
            ]
          },
          "metadata": {
            "tags": []
          },
          "execution_count": 135
        }
      ]
    },
    {
      "cell_type": "code",
      "metadata": {
        "id": "dDywSwz87OsV",
        "colab_type": "code",
        "colab": {
          "base_uri": "https://localhost:8080/",
          "height": 173
        },
        "outputId": "c186c9e7-615d-4ba1-8be1-c4fde37fb64c"
      },
      "source": [
        "# 'Fuel Type' distribution\n",
        "\n",
        "pd.DataFrame(Auto.groupby('Fuel Type').size())"
      ],
      "execution_count": 136,
      "outputs": [
        {
          "output_type": "execute_result",
          "data": {
            "text/html": [
              "<div>\n",
              "<style scoped>\n",
              "    .dataframe tbody tr th:only-of-type {\n",
              "        vertical-align: middle;\n",
              "    }\n",
              "\n",
              "    .dataframe tbody tr th {\n",
              "        vertical-align: top;\n",
              "    }\n",
              "\n",
              "    .dataframe thead th {\n",
              "        text-align: right;\n",
              "    }\n",
              "</style>\n",
              "<table border=\"1\" class=\"dataframe\">\n",
              "  <thead>\n",
              "    <tr style=\"text-align: right;\">\n",
              "      <th></th>\n",
              "      <th>0</th>\n",
              "    </tr>\n",
              "    <tr>\n",
              "      <th>Fuel Type</th>\n",
              "      <th></th>\n",
              "    </tr>\n",
              "  </thead>\n",
              "  <tbody>\n",
              "    <tr>\n",
              "      <th>Premium</th>\n",
              "      <td>19</td>\n",
              "    </tr>\n",
              "    <tr>\n",
              "      <th>Regular</th>\n",
              "      <td>86</td>\n",
              "    </tr>\n",
              "    <tr>\n",
              "      <th>Regular</th>\n",
              "      <td>1</td>\n",
              "    </tr>\n",
              "  </tbody>\n",
              "</table>\n",
              "</div>"
            ],
            "text/plain": [
              "            0\n",
              "Fuel Type    \n",
              "Premium    19\n",
              "Regular    86\n",
              "Regular     1"
            ]
          },
          "metadata": {
            "tags": []
          },
          "execution_count": 136
        }
      ]
    },
    {
      "cell_type": "markdown",
      "metadata": {
        "id": "yk9sBLas8F6p",
        "colab_type": "text"
      },
      "source": [
        "## 4.\tUse z-score normalization to standardize the values of the Weight attribute. Show the results side-by-side with the original Weight attribute."
      ]
    },
    {
      "cell_type": "code",
      "metadata": {
        "id": "Mbsd_OUF8NNK",
        "colab_type": "code",
        "colab": {
          "base_uri": "https://localhost:8080/",
          "height": 359
        },
        "outputId": "78c4f1ef-24f4-4447-fc62-8a9d47599c63"
      },
      "source": [
        "# Creates a dataframe for the original 'Weight (lbs)'\n",
        "Weight_ogn = pd.DataFrame(Auto['Weight (lbs)'])\n",
        "\n",
        "# Z-score normalization of 'Weight (lbs)'\n",
        "Weight_Z = pd.DataFrame((Auto['Weight (lbs)'] - Auto['Weight (lbs)'].mean())/Auto['Weight (lbs)'].std())\n",
        "# Change the name of the column\n",
        "Weight_Z.columns = ['Z Score']\n",
        "\n",
        "# Concatenate the two colums to display side-by-side\n",
        "pd.concat([Weight_ogn, Weight_Z], axis=1).head(10)"
      ],
      "execution_count": 179,
      "outputs": [
        {
          "output_type": "execute_result",
          "data": {
            "text/html": [
              "<div>\n",
              "<style scoped>\n",
              "    .dataframe tbody tr th:only-of-type {\n",
              "        vertical-align: middle;\n",
              "    }\n",
              "\n",
              "    .dataframe tbody tr th {\n",
              "        vertical-align: top;\n",
              "    }\n",
              "\n",
              "    .dataframe thead th {\n",
              "        text-align: right;\n",
              "    }\n",
              "</style>\n",
              "<table border=\"1\" class=\"dataframe\">\n",
              "  <thead>\n",
              "    <tr style=\"text-align: right;\">\n",
              "      <th></th>\n",
              "      <th>Weight (lbs)</th>\n",
              "      <th>Z Score</th>\n",
              "    </tr>\n",
              "  </thead>\n",
              "  <tbody>\n",
              "    <tr>\n",
              "      <th>0</th>\n",
              "      <td>2635</td>\n",
              "      <td>-1.369178</td>\n",
              "    </tr>\n",
              "    <tr>\n",
              "      <th>1</th>\n",
              "      <td>3460</td>\n",
              "      <td>-0.066795</td>\n",
              "    </tr>\n",
              "    <tr>\n",
              "      <th>2</th>\n",
              "      <td>3350</td>\n",
              "      <td>-0.240446</td>\n",
              "    </tr>\n",
              "    <tr>\n",
              "      <th>3</th>\n",
              "      <td>3640</td>\n",
              "      <td>0.217362</td>\n",
              "    </tr>\n",
              "    <tr>\n",
              "      <th>4</th>\n",
              "      <td>3880</td>\n",
              "      <td>0.596237</td>\n",
              "    </tr>\n",
              "    <tr>\n",
              "      <th>5</th>\n",
              "      <td>3325</td>\n",
              "      <td>-0.279912</td>\n",
              "    </tr>\n",
              "    <tr>\n",
              "      <th>6</th>\n",
              "      <td>2795</td>\n",
              "      <td>-1.116595</td>\n",
              "    </tr>\n",
              "    <tr>\n",
              "      <th>7</th>\n",
              "      <td>3495</td>\n",
              "      <td>-0.011542</td>\n",
              "    </tr>\n",
              "    <tr>\n",
              "      <th>8</th>\n",
              "      <td>3350</td>\n",
              "      <td>-0.240446</td>\n",
              "    </tr>\n",
              "    <tr>\n",
              "      <th>9</th>\n",
              "      <td>3075</td>\n",
              "      <td>-0.674574</td>\n",
              "    </tr>\n",
              "  </tbody>\n",
              "</table>\n",
              "</div>"
            ],
            "text/plain": [
              "   Weight (lbs)   Z Score\n",
              "0          2635 -1.369178\n",
              "1          3460 -0.066795\n",
              "2          3350 -0.240446\n",
              "3          3640  0.217362\n",
              "4          3880  0.596237\n",
              "5          3325 -0.279912\n",
              "6          2795 -1.116595\n",
              "7          3495 -0.011542\n",
              "8          3350 -0.240446\n",
              "9          3075 -0.674574"
            ]
          },
          "metadata": {
            "tags": []
          },
          "execution_count": 179
        }
      ]
    },
    {
      "cell_type": "markdown",
      "metadata": {
        "id": "q50qIW1gF6Tt",
        "colab_type": "text"
      },
      "source": [
        "## 5. Convert the categorical variables into dummies."
      ]
    },
    {
      "cell_type": "code",
      "metadata": {
        "id": "OOBGg9jnF8nK",
        "colab_type": "code",
        "colab": {
          "base_uri": "https://localhost:8080/",
          "height": 419
        },
        "outputId": "6f5e211b-cad3-4e6a-a1c5-98507712ad62"
      },
      "source": [
        "# Converts 'Drive Type' into dummie variables\n",
        "\n",
        "DT_dummies = pd.DataFrame(pd.get_dummies(Auto['Drive Type']))\n",
        "DT_dummies"
      ],
      "execution_count": 182,
      "outputs": [
        {
          "output_type": "execute_result",
          "data": {
            "text/html": [
              "<div>\n",
              "<style scoped>\n",
              "    .dataframe tbody tr th:only-of-type {\n",
              "        vertical-align: middle;\n",
              "    }\n",
              "\n",
              "    .dataframe tbody tr th {\n",
              "        vertical-align: top;\n",
              "    }\n",
              "\n",
              "    .dataframe thead th {\n",
              "        text-align: right;\n",
              "    }\n",
              "</style>\n",
              "<table border=\"1\" class=\"dataframe\">\n",
              "  <thead>\n",
              "    <tr style=\"text-align: right;\">\n",
              "      <th></th>\n",
              "      <th>Front</th>\n",
              "      <th>Rear</th>\n",
              "    </tr>\n",
              "  </thead>\n",
              "  <tbody>\n",
              "    <tr>\n",
              "      <th>0</th>\n",
              "      <td>1</td>\n",
              "      <td>0</td>\n",
              "    </tr>\n",
              "    <tr>\n",
              "      <th>1</th>\n",
              "      <td>1</td>\n",
              "      <td>0</td>\n",
              "    </tr>\n",
              "    <tr>\n",
              "      <th>2</th>\n",
              "      <td>1</td>\n",
              "      <td>0</td>\n",
              "    </tr>\n",
              "    <tr>\n",
              "      <th>3</th>\n",
              "      <td>1</td>\n",
              "      <td>0</td>\n",
              "    </tr>\n",
              "    <tr>\n",
              "      <th>4</th>\n",
              "      <td>1</td>\n",
              "      <td>0</td>\n",
              "    </tr>\n",
              "    <tr>\n",
              "      <th>...</th>\n",
              "      <td>...</td>\n",
              "      <td>...</td>\n",
              "    </tr>\n",
              "    <tr>\n",
              "      <th>101</th>\n",
              "      <td>0</td>\n",
              "      <td>1</td>\n",
              "    </tr>\n",
              "    <tr>\n",
              "      <th>102</th>\n",
              "      <td>0</td>\n",
              "      <td>1</td>\n",
              "    </tr>\n",
              "    <tr>\n",
              "      <th>103</th>\n",
              "      <td>0</td>\n",
              "      <td>1</td>\n",
              "    </tr>\n",
              "    <tr>\n",
              "      <th>104</th>\n",
              "      <td>0</td>\n",
              "      <td>1</td>\n",
              "    </tr>\n",
              "    <tr>\n",
              "      <th>105</th>\n",
              "      <td>0</td>\n",
              "      <td>1</td>\n",
              "    </tr>\n",
              "  </tbody>\n",
              "</table>\n",
              "<p>106 rows × 2 columns</p>\n",
              "</div>"
            ],
            "text/plain": [
              "     Front  Rear\n",
              "0        1     0\n",
              "1        1     0\n",
              "2        1     0\n",
              "3        1     0\n",
              "4        1     0\n",
              "..     ...   ...\n",
              "101      0     1\n",
              "102      0     1\n",
              "103      0     1\n",
              "104      0     1\n",
              "105      0     1\n",
              "\n",
              "[106 rows x 2 columns]"
            ]
          },
          "metadata": {
            "tags": []
          },
          "execution_count": 182
        }
      ]
    },
    {
      "cell_type": "code",
      "metadata": {
        "id": "rTXl6-lwHf5k",
        "colab_type": "code",
        "colab": {
          "base_uri": "https://localhost:8080/",
          "height": 419
        },
        "outputId": "1395e3fc-6f29-4fe3-f06b-77964e6bf13a"
      },
      "source": [
        "# Converts 'Fuel Type' into dummie variables\n",
        "\n",
        "FT_dummies = pd.DataFrame(pd.get_dummies(Auto['Fuel Type']))\n",
        "FT_dummies"
      ],
      "execution_count": 183,
      "outputs": [
        {
          "output_type": "execute_result",
          "data": {
            "text/html": [
              "<div>\n",
              "<style scoped>\n",
              "    .dataframe tbody tr th:only-of-type {\n",
              "        vertical-align: middle;\n",
              "    }\n",
              "\n",
              "    .dataframe tbody tr th {\n",
              "        vertical-align: top;\n",
              "    }\n",
              "\n",
              "    .dataframe thead th {\n",
              "        text-align: right;\n",
              "    }\n",
              "</style>\n",
              "<table border=\"1\" class=\"dataframe\">\n",
              "  <thead>\n",
              "    <tr style=\"text-align: right;\">\n",
              "      <th></th>\n",
              "      <th>Premium</th>\n",
              "      <th>Regular</th>\n",
              "      <th>Regular</th>\n",
              "    </tr>\n",
              "  </thead>\n",
              "  <tbody>\n",
              "    <tr>\n",
              "      <th>0</th>\n",
              "      <td>0</td>\n",
              "      <td>1</td>\n",
              "      <td>0</td>\n",
              "    </tr>\n",
              "    <tr>\n",
              "      <th>1</th>\n",
              "      <td>1</td>\n",
              "      <td>0</td>\n",
              "      <td>0</td>\n",
              "    </tr>\n",
              "    <tr>\n",
              "      <th>2</th>\n",
              "      <td>0</td>\n",
              "      <td>1</td>\n",
              "      <td>0</td>\n",
              "    </tr>\n",
              "    <tr>\n",
              "      <th>3</th>\n",
              "      <td>0</td>\n",
              "      <td>1</td>\n",
              "      <td>0</td>\n",
              "    </tr>\n",
              "    <tr>\n",
              "      <th>4</th>\n",
              "      <td>0</td>\n",
              "      <td>1</td>\n",
              "      <td>0</td>\n",
              "    </tr>\n",
              "    <tr>\n",
              "      <th>...</th>\n",
              "      <td>...</td>\n",
              "      <td>...</td>\n",
              "      <td>...</td>\n",
              "    </tr>\n",
              "    <tr>\n",
              "      <th>101</th>\n",
              "      <td>0</td>\n",
              "      <td>1</td>\n",
              "      <td>0</td>\n",
              "    </tr>\n",
              "    <tr>\n",
              "      <th>102</th>\n",
              "      <td>0</td>\n",
              "      <td>0</td>\n",
              "      <td>1</td>\n",
              "    </tr>\n",
              "    <tr>\n",
              "      <th>103</th>\n",
              "      <td>0</td>\n",
              "      <td>1</td>\n",
              "      <td>0</td>\n",
              "    </tr>\n",
              "    <tr>\n",
              "      <th>104</th>\n",
              "      <td>0</td>\n",
              "      <td>1</td>\n",
              "      <td>0</td>\n",
              "    </tr>\n",
              "    <tr>\n",
              "      <th>105</th>\n",
              "      <td>0</td>\n",
              "      <td>1</td>\n",
              "      <td>0</td>\n",
              "    </tr>\n",
              "  </tbody>\n",
              "</table>\n",
              "<p>106 rows × 3 columns</p>\n",
              "</div>"
            ],
            "text/plain": [
              "     Premium  Regular  Regular \n",
              "0          0        1         0\n",
              "1          1        0         0\n",
              "2          0        1         0\n",
              "3          0        1         0\n",
              "4          0        1         0\n",
              "..       ...      ...       ...\n",
              "101        0        1         0\n",
              "102        0        0         1\n",
              "103        0        1         0\n",
              "104        0        1         0\n",
              "105        0        1         0\n",
              "\n",
              "[106 rows x 3 columns]"
            ]
          },
          "metadata": {
            "tags": []
          },
          "execution_count": 183
        }
      ]
    },
    {
      "cell_type": "markdown",
      "metadata": {
        "id": "uKWOQXRXIAQX",
        "colab_type": "text"
      },
      "source": [
        "## 6. Perform basic correlation analysis among the attributes. Perform both numeric and visual correlation outputs."
      ]
    },
    {
      "cell_type": "code",
      "metadata": {
        "id": "kSFuGZ5FIKrl",
        "colab_type": "code",
        "colab": {
          "base_uri": "https://localhost:8080/",
          "height": 820
        },
        "outputId": "18d05aae-7c17-4f58-96d7-9c013952ea36"
      },
      "source": [
        "# Create a dataframe with only the numeric features\n",
        "Auto_num = Auto.select_dtypes(include=np.number)\n",
        "\n",
        "# Create a display the correlation Matrix\n",
        "Auto_cor = Auto_num.corr()\n",
        "Auto_cor"
      ],
      "execution_count": 193,
      "outputs": [
        {
          "output_type": "execute_result",
          "data": {
            "text/html": [
              "<div>\n",
              "<style scoped>\n",
              "    .dataframe tbody tr th:only-of-type {\n",
              "        vertical-align: middle;\n",
              "    }\n",
              "\n",
              "    .dataframe tbody tr th {\n",
              "        vertical-align: top;\n",
              "    }\n",
              "\n",
              "    .dataframe thead th {\n",
              "        text-align: right;\n",
              "    }\n",
              "</style>\n",
              "<table border=\"1\" class=\"dataframe\">\n",
              "  <thead>\n",
              "    <tr style=\"text-align: right;\">\n",
              "      <th></th>\n",
              "      <th>Mileage (mpg)</th>\n",
              "      <th>Capacity (gal)</th>\n",
              "      <th>Length (inches)</th>\n",
              "      <th>Wheel Base (inches)</th>\n",
              "      <th>Width (inches)</th>\n",
              "      <th>Turning Circle (feet)</th>\n",
              "      <th>Weight (lbs)</th>\n",
              "      <th>Door Top (inches)</th>\n",
              "      <th>Luggage (cu. ft.)</th>\n",
              "      <th>Front Shoulder (inches)</th>\n",
              "      <th>Front Leg Room (inches)</th>\n",
              "      <th>Front Head Room (inches)</th>\n",
              "      <th>Rear Shoulder (inches)</th>\n",
              "      <th>Rear Leg Room (inches)</th>\n",
              "      <th>Rear Head Room (inches)</th>\n",
              "    </tr>\n",
              "  </thead>\n",
              "  <tbody>\n",
              "    <tr>\n",
              "      <th>Mileage (mpg)</th>\n",
              "      <td>1.000000</td>\n",
              "      <td>-0.787515</td>\n",
              "      <td>-0.387151</td>\n",
              "      <td>-0.512751</td>\n",
              "      <td>-0.578650</td>\n",
              "      <td>-0.571132</td>\n",
              "      <td>-0.875434</td>\n",
              "      <td>-0.771332</td>\n",
              "      <td>-0.619985</td>\n",
              "      <td>-0.607314</td>\n",
              "      <td>0.053420</td>\n",
              "      <td>-0.236747</td>\n",
              "      <td>-0.269556</td>\n",
              "      <td>-0.274588</td>\n",
              "      <td>-0.654005</td>\n",
              "    </tr>\n",
              "    <tr>\n",
              "      <th>Capacity (gal)</th>\n",
              "      <td>-0.787515</td>\n",
              "      <td>1.000000</td>\n",
              "      <td>0.505427</td>\n",
              "      <td>0.660131</td>\n",
              "      <td>0.678437</td>\n",
              "      <td>0.526678</td>\n",
              "      <td>0.888074</td>\n",
              "      <td>0.752458</td>\n",
              "      <td>0.716461</td>\n",
              "      <td>0.722434</td>\n",
              "      <td>-0.014806</td>\n",
              "      <td>0.274185</td>\n",
              "      <td>0.213711</td>\n",
              "      <td>0.371609</td>\n",
              "      <td>0.647434</td>\n",
              "    </tr>\n",
              "    <tr>\n",
              "      <th>Length (inches)</th>\n",
              "      <td>-0.387151</td>\n",
              "      <td>0.505427</td>\n",
              "      <td>1.000000</td>\n",
              "      <td>0.869492</td>\n",
              "      <td>0.832541</td>\n",
              "      <td>0.684696</td>\n",
              "      <td>0.550863</td>\n",
              "      <td>0.117489</td>\n",
              "      <td>0.240717</td>\n",
              "      <td>0.787516</td>\n",
              "      <td>0.268169</td>\n",
              "      <td>0.203634</td>\n",
              "      <td>0.203753</td>\n",
              "      <td>0.530583</td>\n",
              "      <td>0.200537</td>\n",
              "    </tr>\n",
              "    <tr>\n",
              "      <th>Wheel Base (inches)</th>\n",
              "      <td>-0.512751</td>\n",
              "      <td>0.660131</td>\n",
              "      <td>0.869492</td>\n",
              "      <td>1.000000</td>\n",
              "      <td>0.791321</td>\n",
              "      <td>0.641709</td>\n",
              "      <td>0.678488</td>\n",
              "      <td>0.411330</td>\n",
              "      <td>0.448967</td>\n",
              "      <td>0.790025</td>\n",
              "      <td>0.232445</td>\n",
              "      <td>0.294628</td>\n",
              "      <td>0.116297</td>\n",
              "      <td>0.407676</td>\n",
              "      <td>0.361039</td>\n",
              "    </tr>\n",
              "    <tr>\n",
              "      <th>Width (inches)</th>\n",
              "      <td>-0.578650</td>\n",
              "      <td>0.678437</td>\n",
              "      <td>0.832541</td>\n",
              "      <td>0.791321</td>\n",
              "      <td>1.000000</td>\n",
              "      <td>0.642269</td>\n",
              "      <td>0.743765</td>\n",
              "      <td>0.403390</td>\n",
              "      <td>0.450949</td>\n",
              "      <td>0.909002</td>\n",
              "      <td>0.091544</td>\n",
              "      <td>0.294469</td>\n",
              "      <td>0.400622</td>\n",
              "      <td>0.501899</td>\n",
              "      <td>0.416956</td>\n",
              "    </tr>\n",
              "    <tr>\n",
              "      <th>Turning Circle (feet)</th>\n",
              "      <td>-0.571132</td>\n",
              "      <td>0.526678</td>\n",
              "      <td>0.684696</td>\n",
              "      <td>0.641709</td>\n",
              "      <td>0.642269</td>\n",
              "      <td>1.000000</td>\n",
              "      <td>0.625479</td>\n",
              "      <td>0.413344</td>\n",
              "      <td>0.384132</td>\n",
              "      <td>0.624658</td>\n",
              "      <td>0.116876</td>\n",
              "      <td>0.251681</td>\n",
              "      <td>0.138586</td>\n",
              "      <td>0.340659</td>\n",
              "      <td>0.315220</td>\n",
              "    </tr>\n",
              "    <tr>\n",
              "      <th>Weight (lbs)</th>\n",
              "      <td>-0.875434</td>\n",
              "      <td>0.888074</td>\n",
              "      <td>0.550863</td>\n",
              "      <td>0.678488</td>\n",
              "      <td>0.743765</td>\n",
              "      <td>0.625479</td>\n",
              "      <td>1.000000</td>\n",
              "      <td>0.777217</td>\n",
              "      <td>0.656608</td>\n",
              "      <td>0.762697</td>\n",
              "      <td>0.022551</td>\n",
              "      <td>0.242911</td>\n",
              "      <td>0.319833</td>\n",
              "      <td>0.388947</td>\n",
              "      <td>0.624352</td>\n",
              "    </tr>\n",
              "    <tr>\n",
              "      <th>Door Top (inches)</th>\n",
              "      <td>-0.771332</td>\n",
              "      <td>0.752458</td>\n",
              "      <td>0.117489</td>\n",
              "      <td>0.411330</td>\n",
              "      <td>0.403390</td>\n",
              "      <td>0.413344</td>\n",
              "      <td>0.777217</td>\n",
              "      <td>1.000000</td>\n",
              "      <td>0.803932</td>\n",
              "      <td>0.498575</td>\n",
              "      <td>-0.240942</td>\n",
              "      <td>0.388512</td>\n",
              "      <td>0.175732</td>\n",
              "      <td>0.065755</td>\n",
              "      <td>0.742755</td>\n",
              "    </tr>\n",
              "    <tr>\n",
              "      <th>Luggage (cu. ft.)</th>\n",
              "      <td>-0.619985</td>\n",
              "      <td>0.716461</td>\n",
              "      <td>0.240717</td>\n",
              "      <td>0.448967</td>\n",
              "      <td>0.450949</td>\n",
              "      <td>0.384132</td>\n",
              "      <td>0.656608</td>\n",
              "      <td>0.803932</td>\n",
              "      <td>1.000000</td>\n",
              "      <td>0.603918</td>\n",
              "      <td>-0.222359</td>\n",
              "      <td>0.358312</td>\n",
              "      <td>0.201275</td>\n",
              "      <td>0.314236</td>\n",
              "      <td>0.791403</td>\n",
              "    </tr>\n",
              "    <tr>\n",
              "      <th>Front Shoulder (inches)</th>\n",
              "      <td>-0.607314</td>\n",
              "      <td>0.722434</td>\n",
              "      <td>0.787516</td>\n",
              "      <td>0.790025</td>\n",
              "      <td>0.909002</td>\n",
              "      <td>0.624658</td>\n",
              "      <td>0.762697</td>\n",
              "      <td>0.498575</td>\n",
              "      <td>0.603918</td>\n",
              "      <td>1.000000</td>\n",
              "      <td>0.063630</td>\n",
              "      <td>0.329347</td>\n",
              "      <td>0.441564</td>\n",
              "      <td>0.550277</td>\n",
              "      <td>0.570227</td>\n",
              "    </tr>\n",
              "    <tr>\n",
              "      <th>Front Leg Room (inches)</th>\n",
              "      <td>0.053420</td>\n",
              "      <td>-0.014806</td>\n",
              "      <td>0.268169</td>\n",
              "      <td>0.232445</td>\n",
              "      <td>0.091544</td>\n",
              "      <td>0.116876</td>\n",
              "      <td>0.022551</td>\n",
              "      <td>-0.240942</td>\n",
              "      <td>-0.222359</td>\n",
              "      <td>0.063630</td>\n",
              "      <td>1.000000</td>\n",
              "      <td>0.120034</td>\n",
              "      <td>-0.052595</td>\n",
              "      <td>0.444186</td>\n",
              "      <td>-0.191373</td>\n",
              "    </tr>\n",
              "    <tr>\n",
              "      <th>Front Head Room (inches)</th>\n",
              "      <td>-0.236747</td>\n",
              "      <td>0.274185</td>\n",
              "      <td>0.203634</td>\n",
              "      <td>0.294628</td>\n",
              "      <td>0.294469</td>\n",
              "      <td>0.251681</td>\n",
              "      <td>0.242911</td>\n",
              "      <td>0.388512</td>\n",
              "      <td>0.358312</td>\n",
              "      <td>0.329347</td>\n",
              "      <td>0.120034</td>\n",
              "      <td>1.000000</td>\n",
              "      <td>0.090027</td>\n",
              "      <td>0.158943</td>\n",
              "      <td>0.402010</td>\n",
              "    </tr>\n",
              "    <tr>\n",
              "      <th>Rear Shoulder (inches)</th>\n",
              "      <td>-0.269556</td>\n",
              "      <td>0.213711</td>\n",
              "      <td>0.203753</td>\n",
              "      <td>0.116297</td>\n",
              "      <td>0.400622</td>\n",
              "      <td>0.138586</td>\n",
              "      <td>0.319833</td>\n",
              "      <td>0.175732</td>\n",
              "      <td>0.201275</td>\n",
              "      <td>0.441564</td>\n",
              "      <td>-0.052595</td>\n",
              "      <td>0.090027</td>\n",
              "      <td>1.000000</td>\n",
              "      <td>0.360663</td>\n",
              "      <td>0.289684</td>\n",
              "    </tr>\n",
              "    <tr>\n",
              "      <th>Rear Leg Room (inches)</th>\n",
              "      <td>-0.274588</td>\n",
              "      <td>0.371609</td>\n",
              "      <td>0.530583</td>\n",
              "      <td>0.407676</td>\n",
              "      <td>0.501899</td>\n",
              "      <td>0.340659</td>\n",
              "      <td>0.388947</td>\n",
              "      <td>0.065755</td>\n",
              "      <td>0.314236</td>\n",
              "      <td>0.550277</td>\n",
              "      <td>0.444186</td>\n",
              "      <td>0.158943</td>\n",
              "      <td>0.360663</td>\n",
              "      <td>1.000000</td>\n",
              "      <td>0.292904</td>\n",
              "    </tr>\n",
              "    <tr>\n",
              "      <th>Rear Head Room (inches)</th>\n",
              "      <td>-0.654005</td>\n",
              "      <td>0.647434</td>\n",
              "      <td>0.200537</td>\n",
              "      <td>0.361039</td>\n",
              "      <td>0.416956</td>\n",
              "      <td>0.315220</td>\n",
              "      <td>0.624352</td>\n",
              "      <td>0.742755</td>\n",
              "      <td>0.791403</td>\n",
              "      <td>0.570227</td>\n",
              "      <td>-0.191373</td>\n",
              "      <td>0.402010</td>\n",
              "      <td>0.289684</td>\n",
              "      <td>0.292904</td>\n",
              "      <td>1.000000</td>\n",
              "    </tr>\n",
              "  </tbody>\n",
              "</table>\n",
              "</div>"
            ],
            "text/plain": [
              "                          Mileage (mpg)  ...  Rear Head Room (inches)\n",
              "Mileage (mpg)                  1.000000  ...                -0.654005\n",
              "Capacity (gal)                -0.787515  ...                 0.647434\n",
              "Length (inches)               -0.387151  ...                 0.200537\n",
              "Wheel Base (inches)           -0.512751  ...                 0.361039\n",
              "Width (inches)                -0.578650  ...                 0.416956\n",
              "Turning Circle (feet)         -0.571132  ...                 0.315220\n",
              "Weight (lbs)                  -0.875434  ...                 0.624352\n",
              "Door Top (inches)             -0.771332  ...                 0.742755\n",
              "Luggage (cu. ft.)             -0.619985  ...                 0.791403\n",
              "Front Shoulder (inches)       -0.607314  ...                 0.570227\n",
              "Front Leg Room (inches)        0.053420  ...                -0.191373\n",
              "Front Head Room (inches)      -0.236747  ...                 0.402010\n",
              "Rear Shoulder (inches)        -0.269556  ...                 0.289684\n",
              "Rear Leg Room (inches)        -0.274588  ...                 0.292904\n",
              "Rear Head Room (inches)       -0.654005  ...                 1.000000\n",
              "\n",
              "[15 rows x 15 columns]"
            ]
          },
          "metadata": {
            "tags": []
          },
          "execution_count": 193
        }
      ]
    },
    {
      "cell_type": "code",
      "metadata": {
        "id": "A57kv2RpMbVN",
        "colab_type": "code",
        "colab": {
          "base_uri": "https://localhost:8080/",
          "height": 282
        },
        "outputId": "41cf248b-edf5-49e0-cfce-0036076e22ac"
      },
      "source": [
        "plt.imshow(Auto_cor, cmap='hot')"
      ],
      "execution_count": 194,
      "outputs": [
        {
          "output_type": "execute_result",
          "data": {
            "text/plain": [
              "<matplotlib.image.AxesImage at 0x7fa3d0e80e10>"
            ]
          },
          "metadata": {
            "tags": []
          },
          "execution_count": 194
        },
        {
          "output_type": "display_data",
          "data": {
            "image/png": "[encoded data removed]",
            "text/plain": [
              "<Figure size 432x288 with 1 Axes>"
            ]
          },
          "metadata": {
            "tags": []
          }
        }
      ]
    }
  ]
}